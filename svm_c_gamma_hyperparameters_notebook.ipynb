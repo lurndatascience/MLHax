{
  "nbformat": 4,
  "nbformat_minor": 0,
  "metadata": {
    "colab": {
      "name": "svm-c-gamma-hyperparameters-notebook.ipynb",
      "provenance": [],
      "include_colab_link": true
    },
    "kernelspec": {
      "name": "python3",
      "display_name": "Python 3"
    }
  },
  "cells": [
    {
      "cell_type": "markdown",
      "metadata": {
        "id": "view-in-github",
        "colab_type": "text"
      },
      "source": [
        "<a href=\"https://colab.research.google.com/github/lurndatascience/MLHax/blob/main/svm_c_gamma_hyperparameters_notebook.ipynb\" target=\"_parent\"><img src=\"https://colab.research.google.com/assets/colab-badge.svg\" alt=\"Open In Colab\"/></a>"
      ]
    },
    {
      "cell_type": "code",
      "metadata": {
        "id": "Ksec2liTksMl"
      },
      "source": [
        " import matplotlib.pyplot as plt\n",
        "import numpy as np\n",
        "import pandas as pd\n",
        "import sklearn\n",
        "from matplotlib.axes._axes import _log as matplotlib_axes_logger\n",
        "from matplotlib.colors import ListedColormap\n",
        "from mpl_toolkits import mplot3d\n",
        "from sklearn.metrics import accuracy_score\n",
        "from sklearn.metrics import plot_confusion_matrix\n",
        "from sklearn.datasets import make_classification\n",
        "from sklearn.svm import SVC"
      ],
      "execution_count": null,
      "outputs": []
    },
    {
      "cell_type": "code",
      "metadata": {
        "id": "Q6cbO2BkoGiI"
      },
      "source": [
        "matplotlib_axes_logger.setLevel('ERROR')"
      ],
      "execution_count": null,
      "outputs": []
    },
    {
      "cell_type": "code",
      "metadata": {
        "id": "aYa-FVtBksxi"
      },
      "source": [
        "zero_one_colourmap_pts = ListedColormap(('red', 'green'))\n",
        "zero_one_colourmap_boundary = ListedColormap(('#FFCCCB', '#90EE90'))"
      ],
      "execution_count": null,
      "outputs": []
    },
    {
      "cell_type": "code",
      "metadata": {
        "id": "PzpVQ2lzoNNa"
      },
      "source": [
        "def plot_decision_boundary(X, y, clf):\n",
        "  X_set, y_set = X, y\n",
        "  X1, X2 = np.meshgrid(np.arange(start = X_set[:, 0].min() - 1, \n",
        "                                 stop = X_set[:, 0].max() + 1, \n",
        "                                 step = 0.01),\n",
        "                       np.arange(start = X_set[:, 1].min() - 1, \n",
        "                                 stop = X_set[:, 1].max() + 1, \n",
        "                                 step = 0.01))\n",
        "  plt.figure(figsize=(10,6))\n",
        "  plt.contourf(X1, X2, clf.predict(np.array([X1.ravel(), \n",
        "                                             X2.ravel()]).T).reshape(X1.shape),\n",
        "               alpha = 0.75, \n",
        "               cmap = zero_one_colourmap_boundary)\n",
        "  plt.xlim(X1.min(), X1.max())\n",
        "  plt.ylim(X2.min(), X2.max())\n",
        "  for i, j in enumerate(np.unique(y_set)):\n",
        "    plt.scatter(X_set[y_set == j, 0], X_set[y_set == j, 1],\n",
        "                c = (zero_one_colourmap_pts)(i), label = j)\n",
        "  plt.title('SVM Decision Boundary')\n",
        "  plt.xlabel('X1')\n",
        "  plt.ylabel('X2')\n",
        "  plt.legend()\n",
        "  return plt.show()"
      ],
      "execution_count": null,
      "outputs": []
    },
    {
      "cell_type": "code",
      "metadata": {
        "id": "DGTTHHydqmg7"
      },
      "source": [
        "def generate_clf(input_gamma, input_C=1):\n",
        "  classifier = SVC(kernel=\"poly\", gamma=input_gamma, C=input_C)\n",
        "  classifier.fit(X, y.ravel())\n",
        "  y_pred = classifier.predict(X)\n",
        "  print(\"Training Accuracy = {}\".format(accuracy_score(y_pred, y)))\n",
        "  return classifier"
      ],
      "execution_count": null,
      "outputs": []
    },
    {
      "cell_type": "code",
      "metadata": {
        "id": "wobQfVenkybA"
      },
      "source": [
        "X, y = make_classification(n_samples=200, n_features=2,\n",
        "n_informative=2, n_redundant=0, n_repeated=0, n_classes=2,random_state=44)"
      ],
      "execution_count": null,
      "outputs": []
    },
    {
      "cell_type": "code",
      "metadata": {
        "id": "qRcijIOrkzoc"
      },
      "source": [
        "plt.figure(figsize=(10,6))\n",
        "plt.title(\"SVM Gamma Example\", fontsize=18)\n",
        "plt.scatter(X[:,0], X[:,1], c=y, cmap=zero_one_colourmap_pts)"
      ],
      "execution_count": null,
      "outputs": []
    },
    {
      "cell_type": "markdown",
      "metadata": {
        "id": "Flt3Iw1wq4pD"
      },
      "source": [
        "# Classifier 1 - Gamma = 0.001"
      ]
    },
    {
      "cell_type": "code",
      "metadata": {
        "id": "90M2P87uk2Gc"
      },
      "source": [
        "classifier_1 = generate_clf(0.001)"
      ],
      "execution_count": null,
      "outputs": []
    },
    {
      "cell_type": "code",
      "metadata": {
        "id": "JjlwCk8sqxJv"
      },
      "source": [
        "plot_decision_boundary(X, y, classifier_1)"
      ],
      "execution_count": null,
      "outputs": []
    },
    {
      "cell_type": "markdown",
      "metadata": {
        "id": "huT77nVErMIi"
      },
      "source": [
        "# Classifier 2 - Gamma = 0.01"
      ]
    },
    {
      "cell_type": "code",
      "metadata": {
        "id": "u9vUHfZklA16"
      },
      "source": [
        "classifier_2 = generate_clf(0.01)"
      ],
      "execution_count": null,
      "outputs": []
    },
    {
      "cell_type": "code",
      "metadata": {
        "id": "LIJG0yg4lGAm"
      },
      "source": [
        "plot_decision_boundary(X, y, classifier_2)"
      ],
      "execution_count": null,
      "outputs": []
    },
    {
      "cell_type": "markdown",
      "metadata": {
        "id": "op2fngv7reED"
      },
      "source": [
        "# Classifier 3 - Gamma = 0.1"
      ]
    },
    {
      "cell_type": "code",
      "metadata": {
        "id": "geULPRwtlY8n"
      },
      "source": [
        "classifier_3 = generate_clf(0.1)"
      ],
      "execution_count": null,
      "outputs": []
    },
    {
      "cell_type": "code",
      "metadata": {
        "id": "FqOrXPZAriwz"
      },
      "source": [
        "plot_decision_boundary(X, y, classifier_3)"
      ],
      "execution_count": null,
      "outputs": []
    },
    {
      "cell_type": "markdown",
      "metadata": {
        "id": "b-vuPxczwhGU"
      },
      "source": [
        "# Classifier 4 - Gamma = 1"
      ]
    },
    {
      "cell_type": "code",
      "metadata": {
        "id": "sKpH-JL7wgZf"
      },
      "source": [
        "classifier_4 = generate_clf(1)"
      ],
      "execution_count": null,
      "outputs": []
    },
    {
      "cell_type": "code",
      "metadata": {
        "id": "EGPiaXaSwgca"
      },
      "source": [
        "plot_decision_boundary(X, y, classifier_4)"
      ],
      "execution_count": null,
      "outputs": []
    },
    {
      "cell_type": "markdown",
      "metadata": {
        "id": "9OEfi7EVxLs4"
      },
      "source": [
        "# Classifier 5 - Gamma = 0.1 & C = 0.1"
      ]
    },
    {
      "cell_type": "code",
      "metadata": {
        "id": "3OUL8OLQxdHK"
      },
      "source": [
        "classifier_5 = generate_clf(0.1, 0.1)"
      ],
      "execution_count": null,
      "outputs": []
    },
    {
      "cell_type": "code",
      "metadata": {
        "id": "EhRYlGM9xdPC"
      },
      "source": [
        "plot_decision_boundary(X, y, classifier_5)"
      ],
      "execution_count": null,
      "outputs": []
    },
    {
      "cell_type": "markdown",
      "metadata": {
        "id": "LzARr0e6xLvm"
      },
      "source": [
        "# Classifier 6 - Gamma = 0.1 & C = 1\n"
      ]
    },
    {
      "cell_type": "code",
      "metadata": {
        "id": "9JL_WlSxxeWU"
      },
      "source": [
        "classifier_6 = generate_clf(0.1, 1)"
      ],
      "execution_count": null,
      "outputs": []
    },
    {
      "cell_type": "code",
      "metadata": {
        "id": "yIyHfqSsxeZV"
      },
      "source": [
        "plot_decision_boundary(X, y, classifier_6)"
      ],
      "execution_count": null,
      "outputs": []
    },
    {
      "cell_type": "markdown",
      "metadata": {
        "id": "VYB47kiyxLyR"
      },
      "source": [
        "# Classifier 7 - Gamma = 0.1 & C = 10\n"
      ]
    },
    {
      "cell_type": "code",
      "metadata": {
        "id": "fXUAyNZwxfCL"
      },
      "source": [
        "classifier_7 = generate_clf(0.1, 10)"
      ],
      "execution_count": null,
      "outputs": []
    },
    {
      "cell_type": "code",
      "metadata": {
        "id": "QRhVPq0-xfHs"
      },
      "source": [
        "plot_decision_boundary(X, y, classifier_7)"
      ],
      "execution_count": null,
      "outputs": []
    },
    {
      "cell_type": "code",
      "source": [
        "# For higher Values of gamma points need to be close to each other\n",
        "# For low values More points are groupped together\n",
        "\n",
        "\n",
        "# For small C penelty is very less\n",
        "# For Large C penelty is very high"
      ],
      "metadata": {
        "id": "Cl-zksgicxnr"
      },
      "execution_count": null,
      "outputs": []
    },
    {
      "cell_type": "code",
      "source": [
        ""
      ],
      "metadata": {
        "id": "G8istqMLdYCY"
      },
      "execution_count": null,
      "outputs": []
    }
  ]
}